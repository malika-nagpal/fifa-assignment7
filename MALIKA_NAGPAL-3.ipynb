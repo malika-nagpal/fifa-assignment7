{
  "nbformat": 4,
  "nbformat_minor": 0,
  "metadata": {
    "colab": {
      "provenance": []
    },
    "kernelspec": {
      "name": "python3",
      "display_name": "Python 3"
    },
    "language_info": {
      "name": "python"
    }
  },
  "cells": [
    {
      "cell_type": "code",
      "execution_count": null,
      "metadata": {
        "colab": {
          "base_uri": "https://localhost:8080/"
        },
        "id": "cgXCSRtnGBXH",
        "outputId": "9fb7a99a-da79-4046-f480-41bd145b61e9"
      },
      "outputs": [
        {
          "output_type": "stream",
          "name": "stdout",
          "text": [
            "Collecting dash\n",
            "  Downloading dash-3.0.2-py3-none-any.whl.metadata (10 kB)\n",
            "Collecting Flask<3.1,>=1.0.4 (from dash)\n",
            "  Downloading flask-3.0.3-py3-none-any.whl.metadata (3.2 kB)\n",
            "Collecting Werkzeug<3.1 (from dash)\n",
            "  Downloading werkzeug-3.0.6-py3-none-any.whl.metadata (3.7 kB)\n",
            "Requirement already satisfied: plotly>=5.0.0 in /usr/local/lib/python3.11/dist-packages (from dash) (5.24.1)\n",
            "Requirement already satisfied: importlib-metadata in /usr/local/lib/python3.11/dist-packages (from dash) (8.6.1)\n",
            "Requirement already satisfied: typing-extensions>=4.1.1 in /usr/local/lib/python3.11/dist-packages (from dash) (4.13.0)\n",
            "Requirement already satisfied: requests in /usr/local/lib/python3.11/dist-packages (from dash) (2.32.3)\n",
            "Collecting retrying (from dash)\n",
            "  Downloading retrying-1.3.4-py3-none-any.whl.metadata (6.9 kB)\n",
            "Requirement already satisfied: nest-asyncio in /usr/local/lib/python3.11/dist-packages (from dash) (1.6.0)\n",
            "Requirement already satisfied: setuptools in /usr/local/lib/python3.11/dist-packages (from dash) (75.2.0)\n",
            "Requirement already satisfied: Jinja2>=3.1.2 in /usr/local/lib/python3.11/dist-packages (from Flask<3.1,>=1.0.4->dash) (3.1.6)\n",
            "Requirement already satisfied: itsdangerous>=2.1.2 in /usr/local/lib/python3.11/dist-packages (from Flask<3.1,>=1.0.4->dash) (2.2.0)\n",
            "Requirement already satisfied: click>=8.1.3 in /usr/local/lib/python3.11/dist-packages (from Flask<3.1,>=1.0.4->dash) (8.1.8)\n",
            "Requirement already satisfied: blinker>=1.6.2 in /usr/local/lib/python3.11/dist-packages (from Flask<3.1,>=1.0.4->dash) (1.9.0)\n",
            "Requirement already satisfied: tenacity>=6.2.0 in /usr/local/lib/python3.11/dist-packages (from plotly>=5.0.0->dash) (9.0.0)\n",
            "Requirement already satisfied: packaging in /usr/local/lib/python3.11/dist-packages (from plotly>=5.0.0->dash) (24.2)\n",
            "Requirement already satisfied: MarkupSafe>=2.1.1 in /usr/local/lib/python3.11/dist-packages (from Werkzeug<3.1->dash) (3.0.2)\n",
            "Requirement already satisfied: zipp>=3.20 in /usr/local/lib/python3.11/dist-packages (from importlib-metadata->dash) (3.21.0)\n",
            "Requirement already satisfied: charset-normalizer<4,>=2 in /usr/local/lib/python3.11/dist-packages (from requests->dash) (3.4.1)\n",
            "Requirement already satisfied: idna<4,>=2.5 in /usr/local/lib/python3.11/dist-packages (from requests->dash) (3.10)\n",
            "Requirement already satisfied: urllib3<3,>=1.21.1 in /usr/local/lib/python3.11/dist-packages (from requests->dash) (2.3.0)\n",
            "Requirement already satisfied: certifi>=2017.4.17 in /usr/local/lib/python3.11/dist-packages (from requests->dash) (2025.1.31)\n",
            "Requirement already satisfied: six>=1.7.0 in /usr/local/lib/python3.11/dist-packages (from retrying->dash) (1.17.0)\n",
            "Downloading dash-3.0.2-py3-none-any.whl (7.9 MB)\n",
            "\u001b[2K   \u001b[90m━━━━━━━━━━━━━━━━━━━━━━━━━━━━━━━━━━━━━━━━\u001b[0m \u001b[32m7.9/7.9 MB\u001b[0m \u001b[31m50.1 MB/s\u001b[0m eta \u001b[36m0:00:00\u001b[0m\n",
            "\u001b[?25hDownloading flask-3.0.3-py3-none-any.whl (101 kB)\n",
            "\u001b[2K   \u001b[90m━━━━━━━━━━━━━━━━━━━━━━━━━━━━━━━━━━━━━━━━\u001b[0m \u001b[32m101.7/101.7 kB\u001b[0m \u001b[31m7.7 MB/s\u001b[0m eta \u001b[36m0:00:00\u001b[0m\n",
            "\u001b[?25hDownloading werkzeug-3.0.6-py3-none-any.whl (227 kB)\n",
            "\u001b[2K   \u001b[90m━━━━━━━━━━━━━━━━━━━━━━━━━━━━━━━━━━━━━━━━\u001b[0m \u001b[32m228.0/228.0 kB\u001b[0m \u001b[31m15.4 MB/s\u001b[0m eta \u001b[36m0:00:00\u001b[0m\n",
            "\u001b[?25hDownloading retrying-1.3.4-py3-none-any.whl (11 kB)\n",
            "Installing collected packages: Werkzeug, retrying, Flask, dash\n",
            "  Attempting uninstall: Werkzeug\n",
            "    Found existing installation: Werkzeug 3.1.3\n",
            "    Uninstalling Werkzeug-3.1.3:\n",
            "      Successfully uninstalled Werkzeug-3.1.3\n",
            "  Attempting uninstall: Flask\n",
            "    Found existing installation: Flask 3.1.0\n",
            "    Uninstalling Flask-3.1.0:\n",
            "      Successfully uninstalled Flask-3.1.0\n",
            "Successfully installed Flask-3.0.3 Werkzeug-3.0.6 dash-3.0.2 retrying-1.3.4\n"
          ]
        }
      ],
      "source": [
        "pip install dash"
      ]
    },
    {
      "cell_type": "code",
      "source": [
        "!pip install pandas numpy plotly dash dash-bootstrap-components\n",
        "\n",
        "import pandas as pd\n",
        "import numpy as np\n",
        "\n",
        "data = {\n",
        "    \"Year\": [1930, 1934, 1938, 1950, 1954, 1958, 1962, 1966, 1970, 1974,\n",
        "             1978, 1982, 1986, 1990, 1994, 1998, 2002, 2006, 2010, 2014,\n",
        "             2018, 2022],\n",
        "    \"Winner\": [\"Uruguay\", \"Italy\", \"Italy\", \"Uruguay\", \"West Germany\", \"Brazil\", \"Brazil\", \"England\", \"Brazil\", \"West Germany\",\n",
        "               \"Argentina\", \"Italy\", \"Argentina\", \"West Germany\", \"Brazil\", \"France\", \"Brazil\", \"Italy\", \"Spain\", \"Germany\",\n",
        "               \"France\", \"Argentina\"],\n",
        "    \"Runner-Up\": [\"Argentina\", \"Czechoslovakia\", \"Hungary\", \"Brazil\", \"Hungary\", \"Sweden\", \"Czechoslovakia\", \"West Germany\", \"Italy\", \"Netherlands\",\n",
        "                  \"Netherlands\", \"West Germany\", \"West Germany\", \"Argentina\", \"Italy\", \"Brazil\", \"Germany\", \"France\", \"Netherlands\", \"Argentina\",\n",
        "                  \"Croatia\", \"France\"]\n",
        "}\n",
        "\n",
        "#  West Germany → Germany\n",
        "for col in [\"Winner\", \"Runner-Up\"]:\n",
        "    data[col] = [\"Germany\" if val == \"West Germany\" else val for val in data[col]]\n",
        "\n",
        "df = pd.DataFrame(data)\n",
        "\n",
        "# wins per country\n",
        "win_counts = df[\"Winner\"].value_counts().reset_index()\n",
        "win_counts.columns = [\"Country\", \"Wins\"]\n",
        "\n",
        "# Save CSV for use in Dash later\n",
        "df.to_csv(\"world_cup_finals.csv\", index=False)\n",
        "win_counts.to_csv(\"world_cup_wins.csv\", index=False)\n",
        "\n",
        "# Display the datasets\n",
        "print(\"=== Finals Dataset ===\")\n",
        "print(df.head())\n",
        "\n",
        "print(\"\\n=== Win Count Dataset ===\")\n",
        "print(win_counts.head())\n"
      ],
      "metadata": {
        "colab": {
          "base_uri": "https://localhost:8080/"
        },
        "id": "ZR2gNolpQh7T",
        "outputId": "3679b908-b91f-4802-952d-b8145464e56a"
      },
      "execution_count": null,
      "outputs": [
        {
          "output_type": "stream",
          "name": "stdout",
          "text": [
            "Requirement already satisfied: pandas in /usr/local/lib/python3.11/dist-packages (2.2.2)\n",
            "Requirement already satisfied: numpy in /usr/local/lib/python3.11/dist-packages (2.0.2)\n",
            "Requirement already satisfied: plotly in /usr/local/lib/python3.11/dist-packages (5.24.1)\n",
            "Requirement already satisfied: dash in /usr/local/lib/python3.11/dist-packages (3.0.2)\n",
            "Collecting dash-bootstrap-components\n",
            "  Downloading dash_bootstrap_components-2.0.0-py3-none-any.whl.metadata (18 kB)\n",
            "Requirement already satisfied: python-dateutil>=2.8.2 in /usr/local/lib/python3.11/dist-packages (from pandas) (2.8.2)\n",
            "Requirement already satisfied: pytz>=2020.1 in /usr/local/lib/python3.11/dist-packages (from pandas) (2025.2)\n",
            "Requirement already satisfied: tzdata>=2022.7 in /usr/local/lib/python3.11/dist-packages (from pandas) (2025.2)\n",
            "Requirement already satisfied: tenacity>=6.2.0 in /usr/local/lib/python3.11/dist-packages (from plotly) (9.0.0)\n",
            "Requirement already satisfied: packaging in /usr/local/lib/python3.11/dist-packages (from plotly) (24.2)\n",
            "Requirement already satisfied: Flask<3.1,>=1.0.4 in /usr/local/lib/python3.11/dist-packages (from dash) (3.0.3)\n",
            "Requirement already satisfied: Werkzeug<3.1 in /usr/local/lib/python3.11/dist-packages (from dash) (3.0.6)\n",
            "Requirement already satisfied: importlib-metadata in /usr/local/lib/python3.11/dist-packages (from dash) (8.6.1)\n",
            "Requirement already satisfied: typing-extensions>=4.1.1 in /usr/local/lib/python3.11/dist-packages (from dash) (4.13.0)\n",
            "Requirement already satisfied: requests in /usr/local/lib/python3.11/dist-packages (from dash) (2.32.3)\n",
            "Requirement already satisfied: retrying in /usr/local/lib/python3.11/dist-packages (from dash) (1.3.4)\n",
            "Requirement already satisfied: nest-asyncio in /usr/local/lib/python3.11/dist-packages (from dash) (1.6.0)\n",
            "Requirement already satisfied: setuptools in /usr/local/lib/python3.11/dist-packages (from dash) (75.2.0)\n",
            "Requirement already satisfied: Jinja2>=3.1.2 in /usr/local/lib/python3.11/dist-packages (from Flask<3.1,>=1.0.4->dash) (3.1.6)\n",
            "Requirement already satisfied: itsdangerous>=2.1.2 in /usr/local/lib/python3.11/dist-packages (from Flask<3.1,>=1.0.4->dash) (2.2.0)\n",
            "Requirement already satisfied: click>=8.1.3 in /usr/local/lib/python3.11/dist-packages (from Flask<3.1,>=1.0.4->dash) (8.1.8)\n",
            "Requirement already satisfied: blinker>=1.6.2 in /usr/local/lib/python3.11/dist-packages (from Flask<3.1,>=1.0.4->dash) (1.9.0)\n",
            "Requirement already satisfied: six>=1.5 in /usr/local/lib/python3.11/dist-packages (from python-dateutil>=2.8.2->pandas) (1.17.0)\n",
            "Requirement already satisfied: MarkupSafe>=2.1.1 in /usr/local/lib/python3.11/dist-packages (from Werkzeug<3.1->dash) (3.0.2)\n",
            "Requirement already satisfied: zipp>=3.20 in /usr/local/lib/python3.11/dist-packages (from importlib-metadata->dash) (3.21.0)\n",
            "Requirement already satisfied: charset-normalizer<4,>=2 in /usr/local/lib/python3.11/dist-packages (from requests->dash) (3.4.1)\n",
            "Requirement already satisfied: idna<4,>=2.5 in /usr/local/lib/python3.11/dist-packages (from requests->dash) (3.10)\n",
            "Requirement already satisfied: urllib3<3,>=1.21.1 in /usr/local/lib/python3.11/dist-packages (from requests->dash) (2.3.0)\n",
            "Requirement already satisfied: certifi>=2017.4.17 in /usr/local/lib/python3.11/dist-packages (from requests->dash) (2025.1.31)\n",
            "Downloading dash_bootstrap_components-2.0.0-py3-none-any.whl (202 kB)\n",
            "\u001b[2K   \u001b[90m━━━━━━━━━━━━━━━━━━━━━━━━━━━━━━━━━━━━━━━━\u001b[0m \u001b[32m202.4/202.4 kB\u001b[0m \u001b[31m5.1 MB/s\u001b[0m eta \u001b[36m0:00:00\u001b[0m\n",
            "\u001b[?25hInstalling collected packages: dash-bootstrap-components\n",
            "Successfully installed dash-bootstrap-components-2.0.0\n",
            "=== Finals Dataset ===\n",
            "   Year   Winner       Runner-Up\n",
            "0  1930  Uruguay       Argentina\n",
            "1  1934    Italy  Czechoslovakia\n",
            "2  1938    Italy         Hungary\n",
            "3  1950  Uruguay          Brazil\n",
            "4  1954  Germany         Hungary\n",
            "\n",
            "=== Win Count Dataset ===\n",
            "     Country  Wins\n",
            "0     Brazil     5\n",
            "1      Italy     4\n",
            "2    Germany     4\n",
            "3  Argentina     3\n",
            "4    Uruguay     2\n"
          ]
        }
      ]
    },
    {
      "cell_type": "code",
      "source": [
        "# app.py\n",
        "# link to render dashboard https://fifa-dashapp.onrender.com\n",
        "\n",
        "import pandas as pd\n",
        "import dash\n",
        "from dash import dcc, html, Input, Output\n",
        "import plotly.express as px\n",
        "\n",
        "\n",
        "df_finals = pd.read_csv(\"world_cup_finals.csv\")\n",
        "df_wins= pd.read_csv(\"world_cup_wins.csv\")\n",
        "\n",
        "\n",
        "app = dash.Dash(__name__)\n",
        "app.title = \"FIFA World Cup Dashboard\"\n",
        "\n",
        "\n",
        "app.layout = html.Div([\n",
        "    html.H1(\"FIFA World Cup Winners Dashboard\", style={'textAlign': 'center'}),\n",
        "\n",
        "    html.H2(\"Choropleth Map of World Cup Winners\", style={'marginTop': '20px'}),\n",
        "    dcc.Graph(id='choropleth'),\n",
        "\n",
        "    html.H2(\"Select a Country to See Number of Wins\"),\n",
        "    dcc.Dropdown(\n",
        "        id='country-dropdown',\n",
        "        options=[{'label': c, 'value': c} for c in wins_df[\"Country\"].unique()],\n",
        "        placeholder=\"Select a country\",\n",
        "        style={'width': '50%'}\n",
        "    ),\n",
        "    html.Div(id='country-wins', style={'marginTop': '10px'}),\n",
        "\n",
        "    html.H2(\"Select a Year\"),\n",
        "    dcc.Dropdown(\n",
        "        id='year-dropdown',\n",
        "        options=[{'label': y, 'value': y} for y in finals_df[\"Year\"]],\n",
        "        placeholder=\"Select a year\",\n",
        "        style={'width': '50%'}\n",
        "    ),\n",
        "    html.Div(id='final-result', style={'marginTop': '10px'})\n",
        "])\n",
        "\n",
        "\n",
        "@app.callback(\n",
        "    Output('choropleth', 'figure'),\n",
        "    Input('choropleth', 'id')\n",
        ")\n",
        "def map_update(_):\n",
        "    fig = px.choropleth(\n",
        "        df_wins,\n",
        "        locations=\"Country\",\n",
        "        locationmode=\"country names\",\n",
        "        color=\"Wins\",\n",
        "        color_continuous_scale=\"Blues\",\n",
        "        title=\"World Cup Wins by Country\"\n",
        "    )\n",
        "    fig.update_layout(geo=dict(showframe=False))\n",
        "    return fig\n",
        "\n",
        "\n",
        "@app.callback(\n",
        "    Output('country-wins', 'children'),\n",
        "    Input('country-dropdown', 'value')\n",
        ")\n",
        "def display_country_wins(selected_country):\n",
        "    if not selected_country:\n",
        "        return \"\"\n",
        "    wins = df_wins.loc[wins_df[\"Country\"] == selected_country, \"Wins\"].values[0]\n",
        "    return html.H4(f\"{selected_country} has won the World Cup {wins} times.\")\n",
        "\n",
        "@app.callback(\n",
        "    Output('final-result', 'children'),\n",
        "    Input('year-dropdown', 'value')\n",
        ")\n",
        "def display_final_result(selected_year):\n",
        "    if not selected_year:\n",
        "        return \"\"\n",
        "    row = df_finals[df_finals[\"Year\"] == selected_year].iloc[0]\n",
        "    return html.H4(f\"In {selected_year}, {row['Winner']} won against {row['Runner-Up']}.\")\n",
        "\n",
        "\n",
        "if __name__ == '__main__':\n",
        "    app.run(debug=True)\n"
      ],
      "metadata": {
        "id": "vEN2d7pOHNuA",
        "colab": {
          "base_uri": "https://localhost:8080/",
          "height": 671
        },
        "outputId": "7f38aa02-5647-4f57-a37b-1fade2eb1496"
      },
      "execution_count": 30,
      "outputs": [
        {
          "output_type": "display_data",
          "data": {
            "text/plain": [
              "<IPython.core.display.Javascript object>"
            ],
            "application/javascript": [
              "(async (port, path, width, height, cache, element) => {\n",
              "    if (!google.colab.kernel.accessAllowed && !cache) {\n",
              "      return;\n",
              "    }\n",
              "    element.appendChild(document.createTextNode(''));\n",
              "    const url = await google.colab.kernel.proxyPort(port, {cache});\n",
              "    const iframe = document.createElement('iframe');\n",
              "    iframe.src = new URL(path, url).toString();\n",
              "    iframe.height = height;\n",
              "    iframe.width = width;\n",
              "    iframe.style.border = 0;\n",
              "    iframe.allow = [\n",
              "        'accelerometer',\n",
              "        'autoplay',\n",
              "        'camera',\n",
              "        'clipboard-read',\n",
              "        'clipboard-write',\n",
              "        'gyroscope',\n",
              "        'magnetometer',\n",
              "        'microphone',\n",
              "        'serial',\n",
              "        'usb',\n",
              "        'xr-spatial-tracking',\n",
              "    ].join('; ');\n",
              "    element.appendChild(iframe);\n",
              "  })(8050, \"/\", \"100%\", 650, false, window.element)"
            ]
          },
          "metadata": {}
        }
      ]
    },
    {
      "cell_type": "code",
      "source": [
        "code = '''\n",
        "\n",
        "\n",
        "import pandas as pd\n",
        "import dash\n",
        "from dash import dcc, html, Input, Output\n",
        "import plotly.express as px\n",
        "\n",
        "# Load datasets\n",
        "finals_df = pd.read_csv(\"world_cup_finals.csv\")\n",
        "wins_df = pd.read_csv(\"world_cup_wins.csv\")\n",
        "\n",
        "app = dash.Dash(__name__)\n",
        "app.title = \"FIFA World Cup Dashboard\"\n",
        "\n",
        "app.layout = html.Div([\n",
        "    html.H1(\"FIFA World Cup Winners Dashboard\", style={'textAlign': 'center'}),\n",
        "    html.H2(\"Choropleth Map of World Cup Winners\"),\n",
        "    dcc.Graph(id='choropleth'),\n",
        "    html.H2(\"Select a Country to See Number of Wins\"),\n",
        "    dcc.Dropdown(\n",
        "        id='country-dropdown',\n",
        "        options=[{'label': c, 'value': c} for c in wins_df[\"Country\"].unique()],\n",
        "        placeholder=\"Select a country\",\n",
        "        style={'width': '50%'}\n",
        "    ),\n",
        "    html.Div(id='country-wins'),\n",
        "    html.H2(\" Select a Year to See Final Result\"),\n",
        "    dcc.Dropdown(\n",
        "        id='year-dropdown',\n",
        "        options=[{'label': y, 'value': y} for y in finals_df[\"Year\"]],\n",
        "        placeholder=\"Select a year\",\n",
        "        style={'width': '50%'}\n",
        "    ),\n",
        "    html.Div(id='final-result')\n",
        "])\n",
        "\n",
        "@app.callback(\n",
        "    Output('choropleth', 'figure'),\n",
        "    Input('choropleth', 'id')\n",
        ")\n",
        "def update_map(_):\n",
        "    fig = px.choropleth(\n",
        "        wins_df,\n",
        "        locations=\"Country\",\n",
        "        locationmode=\"country names\",\n",
        "        color=\"Wins\",\n",
        "        color_continuous_scale=\"Blues\",\n",
        "        title=\"World Cup Wins by Country\"\n",
        "    )\n",
        "    fig.update_layout(geo=dict(showframe=False))\n",
        "    return fig\n",
        "\n",
        "@app.callback(\n",
        "    Output('country-wins', 'children'),\n",
        "    Input('country-dropdown', 'value')\n",
        ")\n",
        "def display_country_wins(selected_country):\n",
        "    if not selected_country:\n",
        "        return \"\"\n",
        "    wins = wins_df.loc[wins_df[\"Country\"] == selected_country, \"Wins\"].values[0]\n",
        "    return html.H4(f\"{selected_country} has won the World Cup {wins} times.\")\n",
        "\n",
        "@app.callback(\n",
        "    Output('final-result', 'children'),\n",
        "    Input('year-dropdown', 'value')\n",
        ")\n",
        "def display_final_result(selected_year):\n",
        "    if not selected_year:\n",
        "        return \"\"\n",
        "    row = finals_df[finals_df[\"Year\"] == selected_year].iloc[0]\n",
        "    return html.H4(f\"In {selected_year}, {row['Winner']} won against {row['Runner-Up']}.\")\n",
        "\n",
        "if __name__ == '__main__':\n",
        "    app.run_server(debug=True)\n",
        "'''\n",
        "\n",
        "with open(\"app.py\", \"w\") as f:\n",
        "    f.write(code)\n",
        "\n",
        "print(\" app.py has been created.\")\n"
      ],
      "metadata": {
        "colab": {
          "base_uri": "https://localhost:8080/"
        },
        "id": "sGGvb76KSXZ-",
        "outputId": "73189650-6185-4dc0-ac01-e4a385a7e6a7"
      },
      "execution_count": 31,
      "outputs": [
        {
          "output_type": "stream",
          "name": "stdout",
          "text": [
            " app.py has been created.\n"
          ]
        }
      ]
    },
    {
      "cell_type": "code",
      "source": [
        "requirements = '''\n",
        "dash\n",
        "pandas\n",
        "plotly\n",
        "gunicorn\n",
        "'''\n",
        "\n",
        "with open(\"requirements.txt\", \"w\") as f:\n",
        "    f.write(requirements.strip())\n",
        "\n",
        "print(\"requirements.txt has been created.\")\n"
      ],
      "metadata": {
        "colab": {
          "base_uri": "https://localhost:8080/"
        },
        "id": "PpQDk7yoedKb",
        "outputId": "83293900-ca93-48ed-963d-76032a07ac96"
      },
      "execution_count": 26,
      "outputs": [
        {
          "output_type": "stream",
          "name": "stdout",
          "text": [
            "requirements.txt has been created.\n"
          ]
        }
      ]
    },
    {
      "cell_type": "code",
      "source": [
        "with open(\"Procfile\", \"w\") as f:\n",
        "    f.write(\"web: gunicorn app:app\")\n",
        "\n",
        "print(\"Procfile has been created.\")\n"
      ],
      "metadata": {
        "colab": {
          "base_uri": "https://localhost:8080/"
        },
        "id": "97a7rx7Lefug",
        "outputId": "035bab33-b2ae-4b90-8504-fc63b17f4ac3"
      },
      "execution_count": 27,
      "outputs": [
        {
          "output_type": "stream",
          "name": "stdout",
          "text": [
            "Procfile has been created.\n"
          ]
        }
      ]
    }
  ]
}